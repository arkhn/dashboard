{
 "cells": [
  {
   "cell_type": "markdown",
   "metadata": {},
   "source": [
    "# FHIR ❤️ Dashboard"
   ]
  },
  {
   "cell_type": "markdown",
   "metadata": {},
   "source": [
    "#### Fhirbase Setup"
   ]
  },
  {
   "cell_type": "code",
   "execution_count": 23,
   "metadata": {},
   "outputs": [],
   "source": [
    "import psycopg2\n",
    "conn = psycopg2.connect(\"dbname=fhirbase\")\n",
    "cur = conn.cursor()"
   ]
  },
  {
   "cell_type": "markdown",
   "metadata": {},
   "source": [
    "## Requêtes"
   ]
  },
  {
   "cell_type": "markdown",
   "metadata": {},
   "source": [
    "### Durée moyenne de séjour"
   ]
  },
  {
   "cell_type": "code",
   "execution_count": 15,
   "metadata": {},
   "outputs": [
    {
     "data": {
      "text/plain": [
       "(Decimal('12.7630480167014614'),)"
      ]
     },
     "execution_count": 15,
     "metadata": {},
     "output_type": "execute_result"
    }
   ],
   "source": [
    "query = \"\"\"\n",
    "            SELECT AVG((e.resource#>>'{period, end}')::date - (e.resource#>>'{period, start}')::date) AS len \n",
    "            FROM encounter e \n",
    "            WHERE e.resource#>>'{class, code}' = 'inpatient' \n",
    "            OR e.resource#>>'{class, code}' = 'emergency'\n",
    "        \"\"\"\n",
    "cur.execute(query)\n",
    "cur.fetchone()"
   ]
  },
  {
   "cell_type": "markdown",
   "metadata": {},
   "source": [
    "### Nombre d'entrées et sorties classées par mois"
   ]
  },
  {
   "cell_type": "markdown",
   "metadata": {},
   "source": [
    "**Nombre d'entrées**"
   ]
  },
  {
   "cell_type": "code",
   "execution_count": 16,
   "metadata": {},
   "outputs": [
    {
     "data": {
      "text/plain": [
       "[('2018-08-01 00:00:00+02:00', 4),\n",
       " ('2018-07-01 00:00:00+02:00', 9),\n",
       " ('2018-06-01 00:00:00+02:00', 4),\n",
       " ('2018-05-01 00:00:00+02:00', 8),\n",
       " ('2018-04-01 00:00:00+02:00', 6),\n",
       " ('2018-03-01 00:00:00+01:00', 5),\n",
       " ('2018-02-01 00:00:00+01:00', 3),\n",
       " ('2018-01-01 00:00:00+01:00', 8),\n",
       " ('2017-12-01 00:00:00+01:00', 6),\n",
       " ('2017-11-01 00:00:00+01:00', 2)]"
      ]
     },
     "execution_count": 16,
     "metadata": {},
     "output_type": "execute_result"
    }
   ],
   "source": [
    "query_inpatients = \"\"\"\n",
    "            SELECT \n",
    "                date_trunc('month', (e.resource#>>'{period, start}')::date) as date, \n",
    "                count(*) as entrees \n",
    "            FROM encounter e \n",
    "            WHERE \n",
    "                e.resource#>>'{class, code}' = 'inpatient' \n",
    "                OR e.resource#>>'{class, code}' = 'emergency' \n",
    "            GROUP BY date \n",
    "            ORDER BY date DESC \n",
    "            LIMIT 10;\n",
    "            \"\"\"\n",
    "\n",
    "cur.execute(query_inpatients)\n",
    "[(str(n[0]), n[1]) for n in cur]"
   ]
  },
  {
   "cell_type": "markdown",
   "metadata": {},
   "source": [
    "**Nombre de sorties**"
   ]
  },
  {
   "cell_type": "code",
   "execution_count": 17,
   "metadata": {},
   "outputs": [
    {
     "data": {
      "text/plain": [
       "[('2018-08-01 00:00:00+02:00', 4),\n",
       " ('2018-07-01 00:00:00+02:00', 9),\n",
       " ('2018-06-01 00:00:00+02:00', 5),\n",
       " ('2018-05-01 00:00:00+02:00', 7),\n",
       " ('2018-04-01 00:00:00+02:00', 6),\n",
       " ('2018-03-01 00:00:00+01:00', 5),\n",
       " ('2018-02-01 00:00:00+01:00', 3),\n",
       " ('2018-01-01 00:00:00+01:00', 8),\n",
       " ('2017-12-01 00:00:00+01:00', 6),\n",
       " ('2017-11-01 00:00:00+01:00', 2)]"
      ]
     },
     "execution_count": 17,
     "metadata": {},
     "output_type": "execute_result"
    }
   ],
   "source": [
    "query_outpatients = \"\"\"\n",
    "            SELECT \n",
    "                date_trunc('month', (e.resource#>>'{period, end}')::date) as date, \n",
    "                count(*) as sorties \n",
    "            FROM encounter e \n",
    "            WHERE \n",
    "                e.resource#>>'{class, code}' = 'inpatient' \n",
    "                OR e.resource#>>'{class, code}' = 'emergency' \n",
    "            GROUP BY date \n",
    "            ORDER BY date DESC \n",
    "            LIMIT 10;\n",
    "            \"\"\"\n",
    "cur.execute(query_outpatients)\n",
    "[(str(n[0]), n[1]) for n in cur]"
   ]
  },
  {
   "cell_type": "markdown",
   "metadata": {},
   "source": [
    "### Nombre de lits disponible par Service\n",
    "*Pas de résultats dans la base de données par défaut Fhirbase + MIMIC*"
   ]
  },
  {
   "cell_type": "code",
   "execution_count": 18,
   "metadata": {},
   "outputs": [
    {
     "data": {
      "text/plain": [
       "[]"
      ]
     },
     "execution_count": 18,
     "metadata": {},
     "output_type": "execute_result"
    }
   ],
   "source": [
    "query = \"\"\"\n",
    "            SELECT \n",
    "                l.resource#>>'{operationalStatus, display}' AS bedStatus, \n",
    "                ll.resource#>>'{name}' AS service, \n",
    "                count(*)\n",
    "            FROM \n",
    "                location l \n",
    "            JOIN \n",
    "                location ll ON l.resource#>>'{partOf, identifier}' = ll.resource#>>'{identifier}' \n",
    "            WHERE \n",
    "                l.resource#>>'{status, code}' = 'active' \n",
    "                AND l.resource#>>'{physicalType, code}' = 'bd'  \n",
    "                AND ll.resource#>>'{physicalType, code}' = 'wd' \n",
    "            GROUP BY bedStatus, service;\n",
    "\"\"\"\n",
    "cur.execute(query)\n",
    "[n for n in cur]"
   ]
  },
  {
   "cell_type": "markdown",
   "metadata": {},
   "source": [
    "### Temps d'attente moyen aux urgences (en direct)\n",
    "*Pas de résultats dans la base de données par défaut Fhirbase + MIMIC*\n",
    "\n",
    "**Deux méthodes**"
   ]
  },
  {
   "cell_type": "code",
   "execution_count": 27,
   "metadata": {},
   "outputs": [
    {
     "data": {
      "text/plain": [
       "[(None,)]"
      ]
     },
     "execution_count": 27,
     "metadata": {},
     "output_type": "execute_result"
    }
   ],
   "source": [
    "# using the EpisodeOfCare resource\n",
    "query = \"\"\"\n",
    "            SELECT \n",
    "                AVG(now() - (e.resource#>>'{period, start}')::date) AS len \n",
    "            FROM episodeofcare e \n",
    "            WHERE \n",
    "                e.resource#>>'{status, code}' = 'onhold' \n",
    "                OR e.resource#>>'{status, code}' = 'waitlist'\n",
    "    \"\"\"\n",
    "cur.execute(query)\n",
    "[n for n in cur]"
   ]
  },
  {
   "cell_type": "code",
   "execution_count": 20,
   "metadata": {},
   "outputs": [
    {
     "data": {
      "text/plain": [
       "[(None,)]"
      ]
     },
     "execution_count": 20,
     "metadata": {},
     "output_type": "execute_result"
    }
   ],
   "source": [
    "# using the Encounter resource\n",
    "query = \"\"\"\n",
    "            SELECT \n",
    "                AVG(now() - (e.resource#>>'{period, start}')::date) AS len \n",
    "            FROM Encounter e \n",
    "            WHERE \n",
    "                e.resource#>>'{class, code}' = 'PRENC' \n",
    "    \"\"\"\n",
    "cur.execute(query)\n",
    "[n for n in cur]"
   ]
  },
  {
   "cell_type": "markdown",
   "metadata": {},
   "source": [
    "### Nombre de consultations\n",
    "*La mock database ne permet pas de l'ordonner par specialites (pas de CareTeam / Location renseigne)*"
   ]
  },
  {
   "cell_type": "code",
   "execution_count": 26,
   "metadata": {},
   "outputs": [
    {
     "data": {
      "text/plain": [
       "[('2018-08-01 00:00:00+02:00', 13),\n",
       " ('2018-07-01 00:00:00+02:00', 37),\n",
       " ('2018-06-01 00:00:00+02:00', 37),\n",
       " ('2018-05-01 00:00:00+02:00', 42),\n",
       " ('2018-04-01 00:00:00+02:00', 43),\n",
       " ('2018-03-01 00:00:00+01:00', 33),\n",
       " ('2018-02-01 00:00:00+01:00', 27),\n",
       " ('2018-01-01 00:00:00+01:00', 37),\n",
       " ('2017-12-01 00:00:00+01:00', 30),\n",
       " ('2017-11-01 00:00:00+01:00', 32)]"
      ]
     },
     "execution_count": 26,
     "metadata": {},
     "output_type": "execute_result"
    }
   ],
   "source": [
    "query = \"\"\"\n",
    "            SELECT \n",
    "                date_trunc('month', (e.resource#>>'{period, end}')::date) AS date, count(*) \n",
    "            FROM encounter e \n",
    "            WHERE \n",
    "                e.resource#>>'{class, code}' = 'ambulatory' \n",
    "            GROUP BY date \n",
    "            ORDER BY date DESC\n",
    "            LIMIT 10;\n",
    "\"\"\"\n",
    "cur.execute(query)\n",
    "[(str(n[0]), n[1]) for n in cur]"
   ]
  }
 ],
 "metadata": {
  "kernelspec": {
   "display_name": "Python 3",
   "language": "python",
   "name": "python3"
  },
  "language_info": {
   "codemirror_mode": {
    "name": "ipython",
    "version": 3
   },
   "file_extension": ".py",
   "mimetype": "text/x-python",
   "name": "python",
   "nbconvert_exporter": "python",
   "pygments_lexer": "ipython3",
   "version": "3.7.3"
  }
 },
 "nbformat": 4,
 "nbformat_minor": 2
}
